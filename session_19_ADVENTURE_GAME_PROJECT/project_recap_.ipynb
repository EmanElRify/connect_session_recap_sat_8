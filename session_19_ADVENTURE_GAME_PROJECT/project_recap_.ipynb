{
 "cells": [
  {
   "cell_type": "code",
   "execution_count": 1,
   "metadata": {},
   "outputs": [
    {
     "name": "stdout",
     "output_type": "stream",
     "text": [
      "1 2 3 4\n"
     ]
    }
   ],
   "source": [
    "print(1, 2, 3, 4)"
   ]
  },
  {
   "cell_type": "code",
   "execution_count": null,
   "metadata": {},
   "outputs": [],
   "source": [
    "#\n",
    "\n",
    "\n",
    "import time\n",
    "\n",
    "def print_pause(msg, seconds = 2):\n",
    "    #this function print msgs for the user with delay time\n",
    "    print(msg)\n",
    "    time.sleep(seconds)\n"
   ]
  },
  {
   "cell_type": "code",
   "execution_count": 13,
   "metadata": {},
   "outputs": [
    {
     "name": "stdout",
     "output_type": "stream",
     "text": [
      "Hello\n",
      "Hello\n",
      "Hello\n",
      "Hello\n",
      "Hello\n",
      "Hello\n"
     ]
    }
   ],
   "source": [
    "print_pause(\"Hello\",1)\n",
    "print_pause(\"Hello\",3)\n",
    "print_pause(\"Hello\")\n",
    "print_pause(\"Hello\")\n",
    "print_pause(\"Hello\")\n",
    "print_pause(\"Hello\")"
   ]
  },
  {
   "cell_type": "code",
   "execution_count": 18,
   "metadata": {},
   "outputs": [
    {
     "name": "stdout",
     "output_type": "stream",
     "text": [
      "The game starts!\n",
      "The game end!\n",
      "The game starts!\n",
      "The game end!\n",
      "Thanks for your time!\n"
     ]
    }
   ],
   "source": [
    "def main():\n",
    "    print_pause(\"The game starts!\")\n",
    "    print_pause(\"The game end!\")\n",
    "    expected_output = ['yes', 'no', 'y', 'n']\n",
    "    flag = input(\"Do you want to play again? [y/n]\").lower()\n",
    "    while flag not in expected_output:\n",
    "        print(\"Please enter a valid input\")\n",
    "        flag = input(\"Do you want to play again? [y/n]\").lower()\n",
    "    if flag in ['yes', 'y']:\n",
    "        main()\n",
    "    else:\n",
    "        print(\"Thanks for your time!\")\n",
    "\n",
    "main()"
   ]
  },
  {
   "cell_type": "code",
   "execution_count": 19,
   "metadata": {},
   "outputs": [
    {
     "name": "stdout",
     "output_type": "stream",
     "text": [
      "The game starts!\n",
      "The game end!\n",
      "The game starts!\n",
      "The game end!\n",
      "Thanks for your time!\n"
     ]
    }
   ],
   "source": [
    "flag = 'yes'\n",
    "while flag in ['yes', 'y']:    \n",
    "    print_pause(\"The game starts!\")\n",
    "    print_pause(\"The game end!\")\n",
    "    expected_output = ['yes', 'no', 'y', 'n']\n",
    "    flag = input(\"Do you want to play again? [y/n]\").lower()\n",
    "    while flag not in expected_output:\n",
    "        print(\"Please enter a valid input\")\n",
    "        flag = input(\"Do you want to play again? [y/n]\").lower()\n",
    "    if flag in ['no', 'n']:\n",
    "        print(\"Thanks for your time!\")"
   ]
  },
  {
   "cell_type": "code",
   "execution_count": null,
   "metadata": {},
   "outputs": [],
   "source": []
  },
  {
   "cell_type": "code",
   "execution_count": null,
   "metadata": {},
   "outputs": [
    {
     "name": "stdout",
     "output_type": "stream",
     "text": [
      "The game starts!\n",
      "The game end!\n",
      "The game starts!\n",
      "The game end!\n",
      "The game starts!\n",
      "The game end!\n",
      "Thanks!\n"
     ]
    }
   ],
   "source": [
    "while True:\n",
    "    print_pause(\"The game starts!\")\n",
    "    print_pause(\"The game end!\")\n",
    "    expected_output = ['yes', 'no', 'y', 'n']\n",
    "    flag = input(\"Do you want to play again? [y/n]\").lower()\n",
    "    while flag not in expected_output:\n",
    "        print(\"Please enter a valid input\")\n",
    "        flag = input(\"Do you want to play again? [y/n]\").lower()\n",
    "    if flag in ['n', 'no']:\n",
    "        print(\"Thanks!\")\n",
    "        break\n"
   ]
  },
  {
   "cell_type": "code",
   "execution_count": null,
   "metadata": {},
   "outputs": [],
   "source": [
    "account = {\n",
    "    \"name\":'',\n",
    "    \"email\":'',\n",
    "    \"balance\":0\n",
    "\n",
    "}"
   ]
  },
  {
   "cell_type": "code",
   "execution_count": null,
   "metadata": {},
   "outputs": [],
   "source": []
  },
  {
   "cell_type": "code",
   "execution_count": null,
   "metadata": {},
   "outputs": [
    {
     "name": "stdout",
     "output_type": "stream",
     "text": [
      "The game starts\n"
     ]
    }
   ],
   "source": [
    "def print_pause(msg, seconds = 2):\n",
    "    #this function print msgs for the user with delay time\n",
    "    print(msg)\n",
    "    time.sleep(seconds)\n",
    "\n",
    "def cave(score):\n",
    "    #This function is for what happens in the cave\n",
    "    n = input(\"you are in the cave Choose 1 or 2\")\n",
    "    if n == \"1\":\n",
    "        score +=1\n",
    "    else:\n",
    "        score -= 1\n",
    "    return score\n",
    "\n",
    "def house(score):\n",
    "    n = input(\"you are in the house Choose 1 or 2\")\n",
    "    if n == \"1\":\n",
    "        score +=2\n",
    "    else:\n",
    "        score -= 2\n",
    "    return score\n",
    "\n",
    "def handle_invalid_input(prompt, expected_output):\n",
    "    n = input(prompt)\n",
    "    while n not in expected_output:\n",
    "        print(\"Please enter a valid input\")\n",
    "        n = input(prompt)\n",
    "\n",
    "print(\"The game starts\")\n",
    "total_score = 0\n",
    "\n",
    "n = input(\"Please choose 1 or 2\")\n",
    "while n not in ['1', '2']:\n",
    "    n = input(\"Please choose 1 or 2\")\n",
    "if n == '1':\n",
    "    total_score = cave(total_score)\n",
    "    \n",
    "else:\n",
    "    total_score = house(total_score)\n",
    "\n",
    "print(total_score)\n",
    "        \n",
    "\n"
   ]
  },
  {
   "cell_type": "code",
   "execution_count": 2,
   "metadata": {},
   "outputs": [
    {
     "name": "stdout",
     "output_type": "stream",
     "text": [
      "Please enter a valid input\n",
      "Please enter a valid input\n",
      "Please enter a valid input\n"
     ]
    }
   ],
   "source": [
    "def handle_invalid_input(prompt, expected_output):\n",
    "    n = input(prompt)\n",
    "    while n not in expected_output:\n",
    "        print(\"Please enter a valid input\")\n",
    "        n = input(prompt)\n",
    "\n",
    "handle_invalid_input(\"Choose 1 or 2\", [\"1\", \"2\"])"
   ]
  },
  {
   "cell_type": "code",
   "execution_count": null,
   "metadata": {},
   "outputs": [],
   "source": [
    "import time\n",
    "\n",
    "def print_pause(*s):\n",
    "    for word in s:\n",
    "        print(word) \n",
    "        time.sleep(2) \n",
    "        \n",
    "print_pause(\"The game starts\", \"You are on an isolated\"\n",
    "            \" islhhhhhhhhhhhhhhhhhhhhhhhhhhhhhhhhhhhhhhhhhhhhhhhand\")\n",
    "\n",
    "if True:\n",
    "    pass\n"
   ]
  },
  {
   "cell_type": "code",
   "execution_count": null,
   "metadata": {},
   "outputs": [
    {
     "name": "stdout",
     "output_type": "stream",
     "text": [
      "Hello, World\n"
     ]
    }
   ],
   "source": [
    "print(\"Hello, \" \n",
    "       \"World\")\n",
    "import random\n",
    "import time\n",
    "\n"
   ]
  },
  {
   "cell_type": "code",
   "execution_count": null,
   "metadata": {},
   "outputs": [],
   "source": [
    "import random\n",
    "import time\n",
    "banks = [\"CIB\", \"NBE\"]\n",
    "print(f\"Welcom to {random.choice(banks)} \")\n",
    "time.sleep(2)\n",
    "service = input(\"Do you want to open a bank account? [y/n]\")\n",
    "while service not in ['y', 'n', 'yes', 'no']:\n",
    "    service = input(\"Do you want to open a bank account? [y/n]\")\n",
    "if service == 'y' or service == 'yes':\n",
    "    name = input(\"Please, Enter your name: \")\n",
    "    while len(name) == 0:\n",
    "        name = input(\"Please, Enter a valid name at least 0ne character: \")\n",
    "        \n",
    "def deposit(balance, initial_balance):\n",
    "    \"\"\"\n",
    "    \n",
    "    @\n",
    "    \"\"\"\n",
    "    pass\n",
    "    \"\"\""
   ]
  },
  {
   "cell_type": "code",
   "execution_count": 27,
   "metadata": {},
   "outputs": [
    {
     "name": "stdout",
     "output_type": "stream",
     "text": [
      "You are going to the mansion of a prince\n",
      "A beast opened the door\n"
     ]
    }
   ],
   "source": [
    "import random\n",
    "import time\n",
    "\n",
    "def beast():\n",
    "    pass\n",
    "\n",
    "\n",
    "def voice():\n",
    "    # \n",
    "    pass\n",
    "\n",
    "\n",
    "horror = ['A beast opened the door', 'You heard a voice']\n",
    "item = random.choice(horror)\n",
    "print_pause(\"You are going to the mansion of a prince\")\n",
    "print_pause(item)\n",
    "if \"beast\" in item:\n",
    "    beast()\n",
    "else:\n",
    "    voice()"
   ]
  },
  {
   "cell_type": "code",
   "execution_count": 4,
   "metadata": {},
   "outputs": [
    {
     "name": "stdout",
     "output_type": "stream",
     "text": [
      "Hello World\n",
      "Hello\n",
      "World\n"
     ]
    }
   ],
   "source": [
    "print(\"Hello\", \"World\")\n",
    "print_pause(\"Hello\", \"World\")"
   ]
  },
  {
   "cell_type": "code",
   "execution_count": 15,
   "metadata": {},
   "outputs": [
    {
     "name": "stdout",
     "output_type": "stream",
     "text": [
      "You have 3 apples\n",
      "You have 3 apples\n",
      "You have 3 apples\n",
      "You have 3 apples\n"
     ]
    }
   ],
   "source": [
    "n = int(input(\"How many apples do you have?\"))\n",
    "print(\"You have \" + str(n) + \" apples\")\n",
    "print(f\"You have {n} apples\") #use this\n",
    "print(\"You have {} apples\".format(n))\n",
    "print(\"You have %d apples\"%(n))"
   ]
  },
  {
   "cell_type": "code",
   "execution_count": 17,
   "metadata": {},
   "outputs": [
    {
     "name": "stdout",
     "output_type": "stream",
     "text": [
      "the game starts\n",
      "the game starts\n",
      "the game starts\n",
      "the game starts\n"
     ]
    }
   ],
   "source": [
    "while True: \n",
    "    #repeat the game until a condition is True\n",
    "    print(\"the game starts\")\n",
    "    flag = input(\"Do you want to play again? [n/y]\")\n",
    "    flag = flag.lower()\n",
    "    while flag not in ['yes', 'no', 'n', 'y']: \n",
    "        # handling the invalid inputs\n",
    "        flag = input(\"Do you want to play again? [n/y]\")\n",
    "        flag = flag.lower()\n",
    "    if flag == 'n' or flag == 'no': \n",
    "        # a condition to break the game\n",
    "        break\n",
    "    "
   ]
  },
  {
   "cell_type": "code",
   "execution_count": 22,
   "metadata": {},
   "outputs": [
    {
     "name": "stdout",
     "output_type": "stream",
     "text": [
      "Hello, World\n",
      "Hello World\n"
     ]
    }
   ],
   "source": [
    "s1 = \"Hello,\"\n",
    "s2 = \" World\"\n",
    "print(s1 + s2)\n",
    "print(\"Hello\"\n",
    "      \" World\")"
   ]
  },
  {
   "cell_type": "code",
   "execution_count": 11,
   "metadata": {},
   "outputs": [
    {
     "name": "stdout",
     "output_type": "stream",
     "text": [
      "Hello,. You are 15 years old.\n"
     ]
    }
   ],
   "source": [
    "age = 15\n",
    "formatted_string = \"Hello,. You are %d years old.\" % ( age) \n",
    "print(formatted_string)"
   ]
  },
  {
   "cell_type": "code",
   "execution_count": 23,
   "metadata": {},
   "outputs": [
    {
     "name": "stdout",
     "output_type": "stream",
     "text": [
      "1\n"
     ]
    }
   ],
   "source": [
    "n = input(\"Choose 1 or 2\\n\")\n",
    "while n not in [\"1\", \"2\"]:\n",
    "    n = input(\"Choose 1 or 2\\n\")\n",
    "print(n)"
   ]
  },
  {
   "cell_type": "code",
   "execution_count": null,
   "metadata": {},
   "outputs": [],
   "source": [
    "def game():\n",
    "    pass\n"
   ]
  }
 ],
 "metadata": {
  "kernelspec": {
   "display_name": "Python 3",
   "language": "python",
   "name": "python3"
  },
  "language_info": {
   "codemirror_mode": {
    "name": "ipython",
    "version": 3
   },
   "file_extension": ".py",
   "mimetype": "text/x-python",
   "name": "python",
   "nbconvert_exporter": "python",
   "pygments_lexer": "ipython3",
   "version": "3.12.9"
  }
 },
 "nbformat": 4,
 "nbformat_minor": 2
}
