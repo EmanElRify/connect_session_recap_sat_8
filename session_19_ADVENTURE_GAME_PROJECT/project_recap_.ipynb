{
 "cells": [
  {
   "cell_type": "code",
   "execution_count": 3,
   "metadata": {},
   "outputs": [
    {
     "name": "stdout",
     "output_type": "stream",
     "text": [
      "0\n"
     ]
    }
   ],
   "source": [
    "n = 2\n",
    "while True:\n",
    "    print(0)\n",
    "    n += 1\n",
    "    if n < 3:\n",
    "        continue\n",
    "    else:\n",
    "        break"
   ]
  },
  {
   "cell_type": "code",
   "execution_count": 5,
   "metadata": {},
   "outputs": [
    {
     "name": "stdout",
     "output_type": "stream",
     "text": [
      "0\n"
     ]
    }
   ],
   "source": [
    "n = 2\n",
    "while True:\n",
    "    print(0)\n",
    "    n += 1\n",
    "    if n >= 3:\n",
    "        break"
   ]
  },
  {
   "cell_type": "code",
   "execution_count": null,
   "metadata": {},
   "outputs": [],
   "source": [
    "import time\n",
    "\n",
    "a = 1\n",
    "print(\"hello\")\n",
    "time.sleep(a)\n",
    "print(\"hello\")\n",
    "time.sleep(a)\n",
    "print(\"hello\")\n",
    "time.sleep(a)\n",
    "print(\"hello\")\n",
    "time.sleep(a)\n",
    "print(\"hello\")\n",
    "time.sleep(a)\n",
    "print(\"hello\")\n",
    "time.sleep(a)\n",
    "print(\"hello\")\n",
    "time.sleep(2)\n",
    "print(\"hello\")\n",
    "time.sleep(2)\n",
    "print(\"hello\")\n",
    "time.sleep(1)"
   ]
  },
  {
   "cell_type": "code",
   "execution_count": null,
   "metadata": {},
   "outputs": [],
   "source": [
    "import time\n",
    "\n",
    "def print_pause(msg):\n",
    "    # this function print msgs with a time pause\n",
    "    \"\"\"\n",
    "    this function print msgs with a time pause\n",
    "\n",
    "    \"\"\"\n",
    "    print(msg)\n",
    "    time.sleep(1)\n"
   ]
  },
  {
   "cell_type": "code",
   "execution_count": 11,
   "metadata": {},
   "outputs": [
    {
     "name": "stdout",
     "output_type": "stream",
     "text": [
      "Help on function print_pause in module __main__:\n",
      "\n",
      "print_pause(msg)\n",
      "\n"
     ]
    }
   ],
   "source": [
    "help(print_pause)"
   ]
  },
  {
   "cell_type": "code",
   "execution_count": 13,
   "metadata": {},
   "outputs": [
    {
     "name": "stdout",
     "output_type": "stream",
     "text": [
      "None\n"
     ]
    }
   ],
   "source": [
    "print(print_pause.__doc__)"
   ]
  },
  {
   "cell_type": "code",
   "execution_count": null,
   "metadata": {},
   "outputs": [
    {
     "name": "stdout",
     "output_type": "stream",
     "text": [
      "Hello\n",
      "Hello\n",
      "Hello\n",
      "Hello\n",
      "Hello\n",
      "Hello\n"
     ]
    }
   ],
   "source": [
    "import time\n",
    "\n",
    "def print_pause(msg, seconds=1):\n",
    "    print(msg)\n",
    "    time.sleep(seconds)\n",
    "\n",
    "\n",
    "print_pause(\"Hello\", 2)\n",
    "print_pause(\"Hello\")\n",
    "print_pause(\"Hello\")\n",
    "print_pause(\"Hello\",5)\n",
    "print_pause(\"Hello\",0)\n",
    "print_pause(\"Hello\")\n"
   ]
  },
  {
   "cell_type": "code",
   "execution_count": 20,
   "metadata": {},
   "outputs": [
    {
     "name": "stdout",
     "output_type": "stream",
     "text": [
      "dddddddddddddddddddddddddddddddddddddddddddddddddddddddddddddddddddddddd\n"
     ]
    }
   ],
   "source": [
    "print(\"dddddddddddddddddddddddddddddddd\" \\\n",
    "\"dddddddddddddddddddddddddddddddddddddddd\")"
   ]
  },
  {
   "cell_type": "code",
   "execution_count": null,
   "metadata": {},
   "outputs": [
    {
     "name": "stdout",
     "output_type": "stream",
     "text": [
      "Hello, World\n",
      "world\n"
     ]
    }
   ],
   "source": [
    "print(\"Hello, \"\n",
    "      \"World\")\n",
    "print('world')"
   ]
  },
  {
   "cell_type": "code",
   "execution_count": null,
   "metadata": {},
   "outputs": [],
   "source": [
    "import random, time\n",
    "import random\n",
    "import time\n"
   ]
  },
  {
   "cell_type": "code",
   "execution_count": 36,
   "metadata": {},
   "outputs": [
    {
     "name": "stdout",
     "output_type": "stream",
     "text": [
      "My favorite color is red. What is yours?\n"
     ]
    }
   ],
   "source": [
    "import random\n",
    "\n",
    "random_colors = ['red', 'yellow', 'blue']\n",
    "color = random.choice(random_colors)\n",
    "\n",
    "print(f\"My favorite color is {color}. What is yours?\")"
   ]
  },
  {
   "cell_type": "code",
   "execution_count": null,
   "metadata": {},
   "outputs": [
    {
     "name": "stdout",
     "output_type": "stream",
     "text": [
      "The game starts\n",
      "Your current score is 1\n",
      "You are in the cave\n",
      "Your current score is 3\n",
      "You won!\n",
      "The game is over\n",
      "The game restarts\n",
      "The game starts\n",
      "Your current score is -1\n",
      "You are in the house\n",
      "Your current score is -3\n",
      "You lost!\n",
      "The game is over\n",
      "Thanks for your time!!\n"
     ]
    }
   ],
   "source": [
    "import time\n",
    "import random\n",
    "\n",
    "def print_pause(msg, seconds=1):\n",
    "    # \n",
    "    print(msg)\n",
    "    time.sleep(seconds)\n",
    "\n",
    "\n",
    "def cave(score):\n",
    "    print_pause(\"You are in the cave\")\n",
    "    score += 2\n",
    "    print_pause(f\"Your current score is {score}\")\n",
    "    return score\n",
    "\n",
    "\n",
    "\n",
    "def house(score):\n",
    "    print_pause(\"You are in the house\")\n",
    "    score -= 2\n",
    "    print_pause(f\"Your current score is {score}\")\n",
    "    return score\n",
    "\n",
    "\n",
    "def main():\n",
    "    print_pause(\"The game starts\")\n",
    "    total_score = 0\n",
    "    n = input(\"please enter 1 or 2\")\n",
    "    if n == '1':\n",
    "        \n",
    "        total_score += 1\n",
    "        print_pause(f\"Your current score is {total_score}\")\n",
    "        total_score = cave(total_score)\n",
    "    else:\n",
    "        \n",
    "        total_score -= 1\n",
    "        print_pause(f\"Your current score is {total_score}\")\n",
    "        total_score = house(total_score)\n",
    "\n",
    "    if total_score < 1:\n",
    "        print(\"You lost!\")\n",
    "    else:\n",
    "        print(\"You won!\")\n",
    "    print_pause(\"The game is over\")\n",
    "\n",
    "\n",
    "    expected_input = ['y', 'n', 'yes', 'no']\n",
    "    flag = input(\"Do you want to play again?[y/n]\").lower()\n",
    "    while flag not in expected_input:\n",
    "        flag = input(\"Do you want to play again?[y/n]\").lower()\n",
    "\n",
    "    if flag in ['yes', 'y']:\n",
    "        print_pause(\"The game restarts\")\n",
    "        main()\n",
    "    else:\n",
    "        print_pause(\"Thanks for your time!!\")\n",
    "\n",
    "\n"
   ]
  },
  {
   "cell_type": "code",
   "execution_count": null,
   "metadata": {},
   "outputs": [],
   "source": [
    "main()"
   ]
  },
  {
   "cell_type": "code",
   "execution_count": null,
   "metadata": {},
   "outputs": [],
   "source": [
    "import time\n",
    "import random\n",
    "\n",
    "def print_pause(msg, seconds=1):\n",
    "    # \n",
    "    print(msg)\n",
    "    time.sleep(seconds)\n",
    "\n",
    "\n",
    "def cave(score):\n",
    "    print_pause(\"You are in the cave\")\n",
    "    score += 2\n",
    "    print_pause(f\"Your current score is {score}\")\n",
    "    return score\n",
    "\n",
    "\n",
    "\n",
    "def house(score):\n",
    "    print_pause(\"You are in the house\")\n",
    "    score -= 2\n",
    "    print_pause(f\"Your current score is {score}\")\n",
    "    return score\n",
    "\n",
    "\n",
    "def main():\n",
    "    flag = 'yes'\n",
    "    while flag in ['yes', 'y']:\n",
    "\n",
    "        print_pause(\"The game starts\")\n",
    "        total_score = 0\n",
    "        n = input(\"please enter 1 or 2\")\n",
    "        if n == '1':\n",
    "            \n",
    "            total_score += 1\n",
    "            print_pause(f\"Your current score is {total_score}\")\n",
    "            total_score = cave(total_score)\n",
    "        else:\n",
    "            \n",
    "            total_score -= 1\n",
    "            print_pause(f\"Your current score is {total_score}\")\n",
    "            total_score = house(total_score)\n",
    "\n",
    "        if total_score < 1:\n",
    "            print(\"You lost!\")\n",
    "        else:\n",
    "            print(\"You won!\")\n",
    "        print_pause(\"The game is over\")\n",
    "\n",
    "\n",
    "        expected_input = ['y', 'n', 'yes', 'no']\n",
    "        flag = input(\"Do you want to play again?[y/n]\").lower()\n",
    "        while flag not in expected_input:\n",
    "            flag = input(\"Do you want to play again?[y/n]\").lower()\n",
    "    print(\"Thanks for your time\")        \n",
    "\n",
    "\n",
    "\n",
    "main()"
   ]
  },
  {
   "cell_type": "code",
   "execution_count": 44,
   "metadata": {},
   "outputs": [
    {
     "name": "stdout",
     "output_type": "stream",
     "text": [
      "The game starts\n",
      "Your current score is 1\n",
      "You are in the cave\n",
      "Your current score is 3\n",
      "You won!\n",
      "The game is over\n",
      "Thanks!!!\n"
     ]
    }
   ],
   "source": [
    "flag = 'yes'\n",
    "while flag in ['yes', 'y']:\n",
    "\n",
    "    print_pause(\"The game starts\")\n",
    "    total_score = 0\n",
    "    n = input(\"please enter 1 or 2\")\n",
    "    if n == '1':\n",
    "        \n",
    "        total_score += 1\n",
    "        print_pause(f\"Your current score is {total_score}\")\n",
    "        total_score = cave(total_score)\n",
    "    else:\n",
    "        \n",
    "        total_score -= 1\n",
    "        print_pause(f\"Your current score is {total_score}\")\n",
    "        total_score = house(total_score)\n",
    "\n",
    "    if total_score < 1:\n",
    "        print(\"You lost!\")\n",
    "    else:\n",
    "        print(\"You won!\")\n",
    "    print_pause(\"The game is over\")\n",
    "\n",
    "\n",
    "    expected_input = ['y', 'n', 'yes', 'no']\n",
    "    flag = input(\"Do you want to play again?[y/n]\").lower()\n",
    "\n",
    "    while flag not in expected_input:\n",
    "        flag = input(\"Do you want to play again?[y/n]\").lower()\n",
    "print_pause(\"Thanks!!!\")\n",
    "\n"
   ]
  },
  {
   "cell_type": "code",
   "execution_count": 45,
   "metadata": {},
   "outputs": [
    {
     "name": "stdout",
     "output_type": "stream",
     "text": [
      "The game starts\n",
      "Your current score is -1\n",
      "You are in the house\n",
      "Your current score is -3\n",
      "You lost!\n",
      "The game is over\n",
      "The game restarts\n",
      "The game starts\n",
      "Your current score is 1\n",
      "You are in the cave\n",
      "Your current score is 3\n",
      "You won!\n",
      "The game is over\n",
      "Thanks!!!\n"
     ]
    }
   ],
   "source": [
    "flag = 'yes'\n",
    "while True:\n",
    "\n",
    "    print_pause(\"The game starts\")\n",
    "    total_score = 0\n",
    "    n = input(\"please enter 1 or 2\")\n",
    "    if n == '1':\n",
    "        \n",
    "        total_score += 1\n",
    "        print_pause(f\"Your current score is {total_score}\")\n",
    "        total_score = cave(total_score)\n",
    "    else:\n",
    "        \n",
    "        total_score -= 1\n",
    "        print_pause(f\"Your current score is {total_score}\")\n",
    "        total_score = house(total_score)\n",
    "\n",
    "    if total_score < 1:\n",
    "        print(\"You lost!\")\n",
    "    else:\n",
    "        print(\"You won!\")\n",
    "    print_pause(\"The game is over\")\n",
    "\n",
    "\n",
    "    expected_input = ['y', 'n', 'yes', 'no']\n",
    "    flag = input(\"Do you want to play again?[y/n]\").lower()\n",
    "\n",
    "    while flag not in expected_input:\n",
    "        flag = input(\"Do you want to play again?[y/n]\").lower()\n",
    "\n",
    "    if flag in ['no', 'n']:\n",
    "        print_pause(\"Thanks!!!\")\n",
    "        break\n",
    "    print_pause(\"The game restarts\")\n",
    "\n"
   ]
  },
  {
   "cell_type": "code",
   "execution_count": null,
   "metadata": {},
   "outputs": [],
   "source": []
  },
  {
   "cell_type": "code",
   "execution_count": null,
   "metadata": {},
   "outputs": [],
   "source": [
    "import random\n",
    "import time\n",
    "banks = [\"CIB\", \"NBE\"]\n",
    "print(f\"Welcom to {random.choice(banks)} \")\n",
    "time.sleep(2)\n",
    "service = input(\"Do you want to open a bank account? [y/n]\")\n",
    "while service not in ['y', 'n', 'yes', 'no']:\n",
    "    service = input(\"Do you want to open a bank account? [y/n]\")\n",
    "if service == 'y' or service == 'yes':\n",
    "    name = input(\"Please, Enter your name: \")\n",
    "    while len(name) == 0:\n",
    "        name = input(\"Please, Enter a valid name at least 0ne character: \")\n",
    "        \n",
    "def deposit(balance, initial_balance):\n",
    "    \"\"\"\n",
    "    \n",
    "    @\n",
    "    \"\"\"\n",
    "    pass\n",
    "    \"\"\""
   ]
  },
  {
   "cell_type": "code",
   "execution_count": null,
   "metadata": {},
   "outputs": [],
   "source": []
  }
 ],
 "metadata": {
  "kernelspec": {
   "display_name": "Python 3",
   "language": "python",
   "name": "python3"
  },
  "language_info": {
   "codemirror_mode": {
    "name": "ipython",
    "version": 3
   },
   "file_extension": ".py",
   "mimetype": "text/x-python",
   "name": "python",
   "nbconvert_exporter": "python",
   "pygments_lexer": "ipython3",
   "version": "3.12.9"
  }
 },
 "nbformat": 4,
 "nbformat_minor": 2
}
