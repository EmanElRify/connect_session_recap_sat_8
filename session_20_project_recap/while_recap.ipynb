{
 "cells": [
  {
   "cell_type": "code",
   "execution_count": null,
   "id": "a460c536",
   "metadata": {},
   "outputs": [],
   "source": [
    "# While loop that prints numbers from 1 to 10\n",
    "num = 1\n",
    "while num <= 10:\n",
    "    print(num)\n",
    "    num += 1\n"
   ]
  },
  {
   "cell_type": "code",
   "execution_count": 5,
   "id": "33c6b86f",
   "metadata": {},
   "outputs": [
    {
     "name": "stdout",
     "output_type": "stream",
     "text": [
      "[883]\n"
     ]
    }
   ],
   "source": [
    "import random \n",
    "my_list = []\n",
    "n = random.randint(0, 1000)\n",
    "my_list.append(n)\n",
    "print(my_list)"
   ]
  },
  {
   "cell_type": "code",
   "execution_count": 9,
   "id": "1957c464",
   "metadata": {},
   "outputs": [
    {
     "name": "stdout",
     "output_type": "stream",
     "text": [
      "30\n"
     ]
    }
   ],
   "source": [
    "# This is a normal for loop that return the sum of even numbers from 1 to 10\n",
    "n = 10\n",
    "total = 0\n",
    "for i in range(n+1):\n",
    "    if i % 2 == 0:\n",
    "        total += i\n",
    "print(total)\n"
   ]
  },
  {
   "cell_type": "code",
   "execution_count": 6,
   "id": "3e0bdcf1",
   "metadata": {},
   "outputs": [
    {
     "name": "stdout",
     "output_type": "stream",
     "text": [
      "1\n",
      "4\n",
      "g\n"
     ]
    }
   ],
   "source": [
    "my_list = [1 , 4, 'g']\n",
    "for i in my_list:\n",
    "    print(i)"
   ]
  },
  {
   "cell_type": "code",
   "execution_count": null,
   "id": "b4a3cfa9",
   "metadata": {},
   "outputs": [],
   "source": [
    "# This is how we transform it into a while loop implementation\n",
    "# Explain to the students the differences between two approaches. Use print statements\n",
    "# at every iteration to better visualize it for the students\n",
    "num = 1\n",
    "total = 0\n",
    "while num <= 10:\n",
    "    # print('CURRENT ITERATION -->', num)\n",
    "    if num % 2 == 0:\n",
    "        # print(f\"NUMBER {num} IS AN EVEN NUMBER\")\n",
    "        total += num\n",
    "    num += 1\n",
    "print(total)\n",
    "\n",
    "\n",
    "\n"
   ]
  },
  {
   "cell_type": "code",
   "execution_count": null,
   "id": "8cf2237b",
   "metadata": {},
   "outputs": [],
   "source": [
    "# Integrating user input and while loops\n",
    "while True:\n",
    "    response = input(\"Do you like Python? (yes or no) \")\n",
    "    if response.lower() == \"yes\":\n",
    "        print(\"Great!\")\n",
    "        break\n",
    "    elif response.lower() == \"no\":\n",
    "        print(\"That's too bad.\")\n",
    "        break\n",
    "    else:\n",
    "        print(\"Invalid response. Please enter 'yes' or 'no'.\")\n",
    "\n",
    "\n",
    "# user input is always parsed as a string\n",
    "\n"
   ]
  },
  {
   "cell_type": "code",
   "execution_count": null,
   "id": "2a20cacd",
   "metadata": {},
   "outputs": [],
   "source": [
    "# Validating user numeric input\n",
    "# A while loop that asks the user to enter a number and keeps asking until a valid integer is entered:\n",
    "while True:\n",
    "    try:\n",
    "        num = int(input(\"Enter a number: \"))\n",
    "        break\n",
    "    except ValueError:\n",
    "        print(\"Invalid input. Please enter a valid integer.\")\n",
    "\n"
   ]
  },
  {
   "cell_type": "code",
   "execution_count": null,
   "id": "28bdee63",
   "metadata": {},
   "outputs": [],
   "source": [
    "# Another method\n",
    "num = input(\"Enter a number: \")\n",
    "while not num.isdigit():\n",
    "    print(\"Invalid input. Please enter a valid integer.\")\n",
    "    num = input(\"Enter a number: \")\n",
    "num = int(num)\n",
    "\n",
    "\n",
    "\n",
    "\n",
    "\n",
    "\n"
   ]
  },
  {
   "cell_type": "code",
   "execution_count": null,
   "id": "c065b712",
   "metadata": {},
   "outputs": [],
   "source": [
    "# Exercises driven by student participation - combination of functions, while loop and validating user input\n",
    "\n",
    "\n",
    "def get_circle_info(radius):\n",
    "    circumference = 2 * 3.14 * radius\n",
    "    area = 3.14 * radius ** 2\n",
    "    return circumference, area\n",
    "\n",
    "# For the above example, Ask the students to indentify the function components\n",
    "# Function name?\n",
    "# Function parameters?\n",
    "# Function logic?\n",
    "# Function return?\n",
    "# How can I call this function?\n",
    "# Make the input of the get_circle_info function a user input that needs to be verified to be a numeric value\n",
    "\n",
    "\n",
    "\n",
    "\n",
    "# ANSWER\n",
    "# Function name: get_circle_info\n",
    "# Function parameters: takes one argument upon function call: radius (SHOULD BE A NUMERIC VALUE)\n",
    "# Function logic: Calculates the circumference and are of the circle from the provided radius\n",
    "# Function return: Returns two values first is the circumference and second is the are of the circle\n",
    "# How to call the function?\n",
    "circumference, area = get_circle_info(5)\n",
    "\n",
    "\n",
    "\n",
    "radius = input(\"Enter the radius of the circle: \")\n",
    "while not radius.isdigit():\n",
    "    print(\"Invalid input. Please enter a valid number.\")\n",
    "    radius = input(\"Enter a number: \")\n",
    "radius = float(radius)\n",
    "circumference, area = get_circle_info(radius)\n",
    "print(\"Circumference of the circle: \", circumference)\n",
    "print(\"Area of the circle: \", area)"
   ]
  }
 ],
 "metadata": {
  "kernelspec": {
   "display_name": "Python 3",
   "language": "python",
   "name": "python3"
  },
  "language_info": {
   "codemirror_mode": {
    "name": "ipython",
    "version": 3
   },
   "file_extension": ".py",
   "mimetype": "text/x-python",
   "name": "python",
   "nbconvert_exporter": "python",
   "pygments_lexer": "ipython3",
   "version": "3.13.1"
  }
 },
 "nbformat": 4,
 "nbformat_minor": 5
}
