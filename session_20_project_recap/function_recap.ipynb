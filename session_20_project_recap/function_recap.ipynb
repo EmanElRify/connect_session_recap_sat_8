{
 "cells": [
  {
   "cell_type": "markdown",
   "id": "e23b160a",
   "metadata": {},
   "source": [
    "\n",
    "# Understanding Functions in Python\n",
    "\n",
    "In this section, we will explore the concept of **functions** in Python. Functions are a fundamental building block in programming that allow us to write reusable and organized code.\n",
    "\n",
    "## Key Points About Functions:\n",
    "- A function is a block of code that performs a specific task.\n",
    "- <span style=\"color:red;font-weight:bold;\">Functions can take `input parameters` and `return output values.`</span> \n",
    "- They help in organizing code into logical blocks, making it easier to read and maintain.\n",
    "- Functions reduce code repetition and improve reusability.\n",
    "\n",
    "## Components of a Function:\n",
    "1. **Function Name**: `The name used to call the function.`\n",
    "2. **Function Parameters**: The inputs that the function accepts.\n",
    "3. **Function Logic**: The block of code that defines what the function does.\n",
    "4. **Function Return**: The output that the function provides after execution.\n",
    "\n",
    "### Example:\n",
    "```python\n",
    "def greet(name):\n",
    "    return f\"Hello, {name}!\"\n",
    "\n",
    "print(greet(\"Alice\"))\n",
    "```\n",
    "\n",
    "> **Note:** Functions are a great way to make your code modular and maintainable.\n"
   ]
  },
  {
   "cell_type": "code",
   "execution_count": null,
   "id": "5ce31ee1",
   "metadata": {},
   "outputs": [
    {
     "name": "stdout",
     "output_type": "stream",
     "text": [
      "The student 90 grade is A\n",
      "The student 90 grade is A\n"
     ]
    }
   ],
   "source": [
    "grade = 90\n",
    "\n",
    "\n",
    "\n",
    "if grade >= 90:\n",
    "    print(f\"The student {grade} grade is A\")\n",
    "    print(\"The student \" +  str(grade) +\" grade is A\")\n",
    "elif grade >= 80 :\n",
    "    print(f\"The student grade is B\")\n",
    "elif grade >= 70 :\n",
    "    print(f\"The student grade is C\")\n",
    "elif grade >= 60 :\n",
    "    print(f\"The student grade is D\")\n",
    "else:\n",
    "    print(f\"The student grade is F\")\n",
    "\n",
    "\n",
    "    "
   ]
  },
  {
   "cell_type": "code",
   "execution_count": null,
   "id": "4f3c95b4",
   "metadata": {},
   "outputs": [],
   "source": [
    "def cave():\n",
    "    pass\n",
    "\n",
    "def house(score):\n",
    "    score += 1\n",
    "    return score\n",
    "\n",
    "\n",
    "def main():\n",
    "    # comment\n",
    "    total_score = 0\n",
    "    total_score = house(total_score)\n",
    "\n",
    "\n",
    "# comment\n",
    "def main():\n",
    "    total_score = 0\n",
    "    total_score = house(total_score)\n",
    "\n",
    "\n",
    "main()\n"
   ]
  },
  {
   "cell_type": "code",
   "execution_count": 14,
   "id": "c5afd6c2",
   "metadata": {},
   "outputs": [
    {
     "name": "stdout",
     "output_type": "stream",
     "text": [
      "Help on function main in module __main__:\n",
      "\n",
      "main()\n",
      "    This function\n",
      "\n"
     ]
    }
   ],
   "source": [
    "help(main)"
   ]
  },
  {
   "cell_type": "code",
   "execution_count": null,
   "id": "e8709907",
   "metadata": {},
   "outputs": [
    {
     "name": "stdout",
     "output_type": "stream",
     "text": [
      "5\n"
     ]
    }
   ],
   "source": [
    "\n",
    "\n",
    "def add_two_numbers(x, y):\n",
    "    value = x+y\n",
    "    return value\n",
    "\n",
    "# Also\n",
    "# def add_wo_numbers(x, y):\n",
    "#     return x+y\n",
    "\n",
    "x = add_two_numbers(3, 2)\n",
    "print(x)\n"
   ]
  },
  {
   "cell_type": "markdown",
   "id": "9b9fafe1",
   "metadata": {},
   "source": [
    "\n",
    "For the above example, we can identify the components of the function:\n",
    "\n",
    "- **Function Name**: `add_two_numbers`\n",
    "- **Function Parameters**: Takes two arguments upon function call: `x` and `y` (both should be numeric values).\n",
    "- **Function Logic**: Adds the arguments passed together.\n",
    "- **Function Return**: Expects to return one value (summation of passed arguments)."
   ]
  },
  {
   "cell_type": "code",
   "execution_count": null,
   "id": "a46e2927",
   "metadata": {},
   "outputs": [
    {
     "name": "stdout",
     "output_type": "stream",
     "text": [
      "10\n",
      "6\n"
     ]
    }
   ],
   "source": [
    "\n",
    "print(sum([1,2,3, 4]))\n",
    "\n",
    "print(len([1,2,3, 4, \"\", 'h']))"
   ]
  },
  {
   "cell_type": "code",
   "execution_count": null,
   "id": "0cbd2fa8",
   "metadata": {},
   "outputs": [],
   "source": [
    "def get_average(numbers = [0,0]): #a default value\n",
    "    return sum(numbers) / len(numbers)\n",
    "\n",
    "\n",
    "def get_average(numbers):\n",
    "    return sum(numbers) / len(numbers)"
   ]
  },
  {
   "cell_type": "code",
   "execution_count": 22,
   "id": "3dded6b4",
   "metadata": {},
   "outputs": [
    {
     "data": {
      "text/plain": [
       "0.0"
      ]
     },
     "execution_count": 22,
     "metadata": {},
     "output_type": "execute_result"
    }
   ],
   "source": [
    "get_average()"
   ]
  },
  {
   "cell_type": "code",
   "execution_count": null,
   "id": "7b46db5b",
   "metadata": {},
   "outputs": [],
   "source": [
    "# function recursion\n",
    "def hello():\n",
    "    \"\"\"\n",
    "    \n",
    "    \"\"\"\n",
    "    print(\"hello\")\n",
    "    hello()\n",
    "\n",
    "hello()"
   ]
  },
  {
   "cell_type": "code",
   "execution_count": null,
   "id": "a30757a0",
   "metadata": {},
   "outputs": [],
   "source": [
    "# For the above example, we can identify the components of the function\n",
    "# Function name: get_average\n",
    "# Function parameters: takes one argument upon function call: numbers (SHOULD BE A LIST OF NUMERIC VALUES)\n",
    "# Function logic: Returns the average by summing the list elements and dividing them by the number of elements.\n",
    "# Function return: Expects to return one value (average of passed arguments)\n",
    "\n",
    "x = get_average([1,2,3,4,5,6])\n",
    "print(x)"
   ]
  },
  {
   "cell_type": "code",
   "execution_count": null,
   "id": "357fa481",
   "metadata": {},
   "outputs": [],
   "source": [
    "import random \n",
    "my_list = [1, 2, 3]\n",
    "n = random.choice(my_list)\n",
    "print(n)"
   ]
  },
  {
   "cell_type": "code",
   "execution_count": null,
   "id": "e39e730b",
   "metadata": {},
   "outputs": [
    {
     "name": "stdout",
     "output_type": "stream",
     "text": [
      "8\n"
     ]
    }
   ],
   "source": [
    "# what operator do we use to get a number squared\n",
    "# ما هو المعامل الذي نستخدمه للحصول على مربع الرقم\n",
    "\n",
    "\n",
    "print(2**3)\n"
   ]
  },
  {
   "cell_type": "code",
   "execution_count": null,
   "id": "ba8cf3bb",
   "metadata": {},
   "outputs": [],
   "source": [
    "# Multi value return function\n",
    "def square_two_numbers(x,y):\n",
    "    return x**2, y**2"
   ]
  },
  {
   "cell_type": "code",
   "execution_count": null,
   "id": "23c26bdd",
   "metadata": {},
   "outputs": [
    {
     "name": "stdout",
     "output_type": "stream",
     "text": [
      "Number 1 is : 4\n",
      "Number 2 is : 9\n"
     ]
    }
   ],
   "source": [
    "# For the above example, we can identify the components of the function\n",
    "# Function name: square_two_numbers\n",
    "# Function parameters: akes two arguments upon function call: x and y (BOTH SHOULD BE NUMERIC VALUES)\n",
    "# Function logic: Returns the square of the arguments passed to the function\n",
    "# Function return: Expects to return TWO values (square of both numebrs)\n",
    "\n",
    "\n",
    "# For multi-value return functions show them students how the function should be called\n",
    "\n",
    "num1, num2 = square_two_numbers(2,3)\n",
    "# Notice here that the function call that has 2 returns needs to have values stored in \n",
    "# variables with the same number of return values\n",
    "print(f\"Number 1 is : {num1}\")\n",
    "print(f\"Number 2 is : {num2}\")\n"
   ]
  },
  {
   "cell_type": "code",
   "execution_count": null,
   "id": "b0a41850",
   "metadata": {},
   "outputs": [],
   "source": [
    "nums = square_two_numbers(3, 4)\n",
    "print(nums)\n",
    "print(f\"The type of the return is : {type(nums)}\")"
   ]
  },
  {
   "cell_type": "code",
   "execution_count": null,
   "id": "52532892",
   "metadata": {},
   "outputs": [],
   "source": []
  },
  {
   "cell_type": "code",
   "execution_count": null,
   "id": "2c608574",
   "metadata": {},
   "outputs": [],
   "source": [
    "my_tuple = (1, 2)\n",
    "x, y = my_tuple\n",
    "print(x)\n",
    "print(y)"
   ]
  },
  {
   "cell_type": "code",
   "execution_count": null,
   "id": "5a13906a",
   "metadata": {},
   "outputs": [],
   "source": [
    "list_of_strings = ['Ahmed', 'Mohammed', 'Adam', 'David']\n",
    "# How can we get the longest string in a list\n",
    "# ازاي نقدر نجيب أطول نص في قائمة\n",
    "\n",
    "\n",
    "\n",
    "n_i = 0\n",
    "longest_string = \"\"\n",
    "\n",
    "for name in list_of_strings:\n",
    "    n = len(name)\n",
    "    if n > n_i:\n",
    "        n_i = n\n",
    "        longest_string = name\n",
    "\n",
    "print(f\"The longest string is {longest_string}\")\n",
    "\n",
    "\n",
    "\n",
    "\n"
   ]
  },
  {
   "cell_type": "code",
   "execution_count": null,
   "id": "3818cda5",
   "metadata": {},
   "outputs": [],
   "source": [
    "\n",
    "def get_longest_string(strings):\n",
    "\n",
    "    longest_string = \"\"\n",
    "\n",
    "    for string in strings:\n",
    "        if len(string) > len(longest_string):\n",
    "            longest_string = string\n",
    "            \n",
    "    return longest_string\n",
    "\n",
    "\n",
    "x = get_longest_string([\"THIS IS\", \"THE LONGEST STRING\", \"Hello\"])\n",
    "print(x)"
   ]
  },
  {
   "cell_type": "code",
   "execution_count": null,
   "id": "eeee14bd",
   "metadata": {},
   "outputs": [],
   "source": [
    "# ANSWER\n",
    "# Function name: longest_string\n",
    "# Function parameters: takes one argument upon function call: strings (SHOULD BE A LIST OF STRINGS)\n",
    "# Function logic: Stores the longest string from the passed arguments in a variable to return the longest string\n",
    "# Function return: Returns one value that is of string format\n",
    "\n",
    "\n",
    "\n",
    "x = get_longest_string([\"THIS IS\", \"THE LONGEST STRING\", \"Hello\"])\n",
    "print(x)"
   ]
  }
 ],
 "metadata": {
  "kernelspec": {
   "display_name": "Python 3",
   "language": "python",
   "name": "python3"
  },
  "language_info": {
   "codemirror_mode": {
    "name": "ipython",
    "version": 3
   },
   "file_extension": ".py",
   "mimetype": "text/x-python",
   "name": "python",
   "nbconvert_exporter": "python",
   "pygments_lexer": "ipython3",
   "version": "3.12.9"
  }
 },
 "nbformat": 4,
 "nbformat_minor": 5
}
