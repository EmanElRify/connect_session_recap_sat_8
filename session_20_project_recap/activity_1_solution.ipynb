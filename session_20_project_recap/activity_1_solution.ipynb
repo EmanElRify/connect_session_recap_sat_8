{
 "cells": [
  {
   "cell_type": "code",
   "execution_count": 19,
   "id": "215d13de",
   "metadata": {},
   "outputs": [],
   "source": [
    "# Exercises on functions\n",
    "\n",
    "# Design a function that takes in a value and return the sum of all even numbers\n",
    "# between 1 and the passed value. Write the function once using for loop and once using while loop\n",
    "\n",
    "# While loop implementation\n",
    "def get_sum_even_numbers(n):\n",
    "    total = 0\n",
    "    i = 2\n",
    "    while i <= n:\n",
    "        total += i\n",
    "        i += 2\n",
    "    return total\n",
    "\n",
    "# For loop implementation\n",
    "def get_sum_even_numbers(n):\n",
    "    total = 0\n",
    "    for i in range(n+1):\n",
    "        if i%2 == 0:\n",
    "            total += i\n",
    "    return total\n",
    "\n",
    "\n",
    "\n",
    "\n",
    "# Design a function that takes in a value n and returns a list of n elements composed\n",
    "# of random numbers between 1 and 1000\n",
    "\n",
    "import random\n",
    "def random_generator(n):\n",
    "    final_list = []\n",
    "    while len(final_list) < n:\n",
    "        final_list.append(random.randint(1, 1000))\n",
    "    return final_list\n",
    "\n",
    "\n",
    "\n",
    "\n",
    "\n",
    "# Design a function that uses the random_generator funtion to generate a list\n",
    "# of n randomly generated numbers and returns the average of said list\n",
    "\n",
    "def get_average(n):\n",
    "    random_list = random_generator(n)\n",
    "    return sum(random_list) / len(random_list)\n",
    "\n",
    "\n",
    "\n",
    "\n",
    "\n",
    "# Tweak the random_generator function so that there would not be any duplicates of randomly chosen numbers\n",
    "# using while loops\n",
    "import random\n",
    "def random_generator(n):\n",
    "    final_list = []\n",
    "    while len(final_list) < n:\n",
    "        generated_number = random.randint(1, 1000)\n",
    "        while generated_number in final_list:\n",
    "            generated_number = random.randint(1, 1000)\n",
    "        final_list.append(generated_number)\n",
    "    return final_list\n",
    "\n",
    "\n",
    "\n",
    "# Design a function that uses the random_generator funtion to return a list of x random elements (using random.sample or random.choices) \n",
    "# from the randomly generated list of n elements.\n",
    "\n",
    "\n",
    "def get_random_numbers(n, x):  \n",
    "    \"\"\"\n",
    "    hello\n",
    "    \"\"\"      \n",
    "    random_list = random_generator(n)\n",
    "    return random.choices(random_list, k=x)"
   ]
  },
  {
   "cell_type": "code",
   "execution_count": null,
   "id": "f57b54e4",
   "metadata": {},
   "outputs": [
    {
     "data": {
      "text/plain": [
       "30"
      ]
     },
     "execution_count": 11,
     "metadata": {},
     "output_type": "execute_result"
    }
   ],
   "source": [
    "get_sum_even_numbers(10)\n"
   ]
  },
  {
   "cell_type": "code",
   "execution_count": 20,
   "id": "29c8851d",
   "metadata": {},
   "outputs": [
    {
     "name": "stdout",
     "output_type": "stream",
     "text": [
      "Help on function get_random_numbers in module __main__:\n",
      "\n",
      "get_random_numbers(n, x)\n",
      "    hello\n",
      "\n"
     ]
    }
   ],
   "source": [
    "help(get_random_numbers)"
   ]
  },
  {
   "cell_type": "code",
   "execution_count": 17,
   "id": "5ca6c450",
   "metadata": {},
   "outputs": [
    {
     "name": "stdout",
     "output_type": "stream",
     "text": [
      "[859, 124, 953, 69, 81, 38, 371, 800, 389, 975]\n",
      "[124, 81, 859]\n"
     ]
    }
   ],
   "source": [
    "first_list = random_generator(10)\n",
    "print(first_list)\n",
    "second_list = random.choices(first_list, k = 3)\n",
    "print(second_list)"
   ]
  },
  {
   "cell_type": "code",
   "execution_count": 18,
   "id": "a8ba0f76",
   "metadata": {},
   "outputs": [
    {
     "name": "stdout",
     "output_type": "stream",
     "text": [
      "Help on method choices in module random:\n",
      "\n",
      "choices(population, weights=None, *, cum_weights=None, k=1) method of random.Random instance\n",
      "    Return a k sized list of population elements chosen with replacement.\n",
      "\n",
      "    If the relative weights or cumulative weights are not specified,\n",
      "    the selections are made with equal probability.\n",
      "\n"
     ]
    }
   ],
   "source": [
    "help(random.choices)"
   ]
  },
  {
   "cell_type": "code",
   "execution_count": null,
   "id": "2dafc0a2",
   "metadata": {},
   "outputs": [
    {
     "data": {
      "text/plain": [
       "[419, 471, 419]"
      ]
     },
     "execution_count": 5,
     "metadata": {},
     "output_type": "execute_result"
    }
   ],
   "source": [
    "get_random_numbers(10, 3) #choices\n"
   ]
  },
  {
   "cell_type": "code",
   "execution_count": 15,
   "id": "4a98b58f",
   "metadata": {},
   "outputs": [
    {
     "data": {
      "text/plain": [
       "[666, 760, 905, 692, 693]"
      ]
     },
     "execution_count": 15,
     "metadata": {},
     "output_type": "execute_result"
    }
   ],
   "source": [
    "def random_generator_unique(n):\n",
    "    unique_randoms = []\n",
    "    while len(unique_randoms) < n:\n",
    "        num = random.randint(1, 1000)\n",
    "        if num not in unique_randoms:\n",
    "            unique_randoms.append(num)\n",
    "    return unique_randoms\n",
    "\n",
    "random_generator_unique(5)\n"
   ]
  },
  {
   "cell_type": "code",
   "execution_count": null,
   "id": "f20a64d2",
   "metadata": {},
   "outputs": [],
   "source": [
    "def cave():\n",
    "    print('You entered the cave')\n",
    "    n = '1'\n",
    "    if n == '1':\n",
    "        print(\"You enter 1\")\n",
    "    else:\n",
    "        pass\n",
    "\n",
    "def main():\n",
    "    n = '2'\n",
    "    if n == '2':\n",
    "\n",
    "\n"
   ]
  }
 ],
 "metadata": {
  "kernelspec": {
   "display_name": "Python 3",
   "language": "python",
   "name": "python3"
  },
  "language_info": {
   "codemirror_mode": {
    "name": "ipython",
    "version": 3
   },
   "file_extension": ".py",
   "mimetype": "text/x-python",
   "name": "python",
   "nbconvert_exporter": "python",
   "pygments_lexer": "ipython3",
   "version": "3.13.1"
  }
 },
 "nbformat": 4,
 "nbformat_minor": 5
}
