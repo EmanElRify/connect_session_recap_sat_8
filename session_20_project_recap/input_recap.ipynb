{
 "cells": [
  {
   "cell_type": "code",
   "execution_count": null,
   "id": "bbf4ef83",
   "metadata": {},
   "outputs": [],
   "source": [
    "# User inputs in python\n",
    "\n",
    "# input() function is used to take user input\n",
    "# input() function always returns a string\n",
    "# to convert the input to a number, we need to use int() or float() functions\n",
    "# but we need to make sure that the input is a number before converting it to a number in order to avoid errors\n",
    "\n",
    "\n",
    "# Validate user input (numbers, strings, etc.)\n",
    "\n",
    "\n",
    "#  validate user input as a string:\n",
    "#  we will use isalpha() function to check if the input is a alphabetic string or not\n",
    "#  ***Note: isalpha() function returns True if all characters in the string are alphabetic and there is at least one character, False otherwise.***\n",
    "#  spaces are not considered alphabetic characters\n",
    "\n",
    "def validate_string(name):\n",
    "    if name.isalpha():\n",
    "        print(\"Valid name\")\n",
    "        return True\n",
    "    else:\n",
    "        print(\"Invalid name\")\n",
    "        return False\n",
    "\n",
    "user_name = input(\"Enter your name: \")\n",
    "\n",
    "validate_string(user_name)\n",
    "\n",
    "while not validate_string(user_name):\n",
    "    user_name = input(\"Enter your name: \")\n",
    "# ----------------------------------------------\n",
    "\n"
   ]
  },
  {
   "cell_type": "code",
   "execution_count": null,
   "id": "3406fb2f",
   "metadata": {},
   "outputs": [],
   "source": [
    "# validate user input as a number:\n",
    "# we will use isdigit() function to check if the input is a number or not\n",
    "# note: isdigit() function returns True if all characters in the string are digits and there is at least one character, False otherwise.\n",
    "# spaces are not considered digits\n",
    "\n",
    "def validate_number(number):\n",
    "    if number.isdigit():\n",
    "        print(\"Valid number\")\n",
    "        return True\n",
    "    else:\n",
    "        print(\"Invalid number\")\n",
    "        return False\n",
    "\n",
    "id = input(\"Enter your ID: \")\n",
    "\n",
    "validate_number(id)\n",
    "\n",
    "while not validate_number(id):\n",
    "    id = input(\"Enter your ID: \")\n"
   ]
  }
 ],
 "metadata": {
  "language_info": {
   "name": "python"
  }
 },
 "nbformat": 4,
 "nbformat_minor": 5
}
